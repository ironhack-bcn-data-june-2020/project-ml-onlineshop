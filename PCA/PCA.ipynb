{
 "cells": [
  {
   "cell_type": "markdown",
   "metadata": {},
   "source": [
    "# Import libraries"
   ]
  },
  {
   "cell_type": "code",
   "execution_count": 1,
   "metadata": {},
   "outputs": [],
   "source": [
    "import pandas as pd\n",
    "import numpy as np\n",
    "import seaborn as sns\n",
    "import matplotlib.pyplot as plt\n",
    "from sklearn.decomposition import PCA"
   ]
  },
  {
   "cell_type": "markdown",
   "metadata": {},
   "source": [
    "Set figure size"
   ]
  },
  {
   "cell_type": "code",
   "execution_count": 2,
   "metadata": {},
   "outputs": [],
   "source": [
    "plt.rcParams['figure.figsize'] = [10, 8]"
   ]
  },
  {
   "cell_type": "markdown",
   "metadata": {},
   "source": [
    "# Model"
   ]
  },
  {
   "cell_type": "code",
   "execution_count": 3,
   "metadata": {},
   "outputs": [],
   "source": [
    "pca = PCA()"
   ]
  },
  {
   "cell_type": "markdown",
   "metadata": {},
   "source": [
    "# DF filled with mean and KNN"
   ]
  },
  {
   "cell_type": "code",
   "execution_count": 4,
   "metadata": {},
   "outputs": [],
   "source": [
    "df = pd.read_csv('../data/0.NaNs/df_mean_knn.csv')"
   ]
  },
  {
   "cell_type": "code",
   "execution_count": 5,
   "metadata": {
    "scrolled": false
   },
   "outputs": [
    {
     "data": {
      "text/html": [
       "<div>\n",
       "<style scoped>\n",
       "    .dataframe tbody tr th:only-of-type {\n",
       "        vertical-align: middle;\n",
       "    }\n",
       "\n",
       "    .dataframe tbody tr th {\n",
       "        vertical-align: top;\n",
       "    }\n",
       "\n",
       "    .dataframe thead th {\n",
       "        text-align: right;\n",
       "    }\n",
       "</style>\n",
       "<table border=\"1\" class=\"dataframe\">\n",
       "  <thead>\n",
       "    <tr style=\"text-align: right;\">\n",
       "      <th></th>\n",
       "      <th>Administrative</th>\n",
       "      <th>Administrative_Duration</th>\n",
       "      <th>Informational</th>\n",
       "      <th>Informational_Duration</th>\n",
       "      <th>ProductRelated</th>\n",
       "      <th>ProductRelated_Duration</th>\n",
       "      <th>BounceRates</th>\n",
       "      <th>ExitRates</th>\n",
       "      <th>SpecialDay</th>\n",
       "      <th>Month</th>\n",
       "      <th>OperatingSystems</th>\n",
       "      <th>Browser</th>\n",
       "      <th>Region</th>\n",
       "      <th>TrafficType</th>\n",
       "      <th>Weekend</th>\n",
       "      <th>Revenue</th>\n",
       "      <th>New_Visitor</th>\n",
       "      <th>Other</th>\n",
       "      <th>Returning_Visitor</th>\n",
       "      <th>PageValues</th>\n",
       "    </tr>\n",
       "  </thead>\n",
       "  <tbody>\n",
       "    <tr>\n",
       "      <th>0</th>\n",
       "      <td>0.0</td>\n",
       "      <td>0.0</td>\n",
       "      <td>0.0</td>\n",
       "      <td>0.0</td>\n",
       "      <td>1.0</td>\n",
       "      <td>0.000000</td>\n",
       "      <td>0.20</td>\n",
       "      <td>0.20</td>\n",
       "      <td>0.0</td>\n",
       "      <td>2.0</td>\n",
       "      <td>1.0</td>\n",
       "      <td>1.0</td>\n",
       "      <td>1.0</td>\n",
       "      <td>1.0</td>\n",
       "      <td>0.0</td>\n",
       "      <td>0.0</td>\n",
       "      <td>0.0</td>\n",
       "      <td>0.0</td>\n",
       "      <td>1.0</td>\n",
       "      <td>0.0</td>\n",
       "    </tr>\n",
       "    <tr>\n",
       "      <th>1</th>\n",
       "      <td>0.0</td>\n",
       "      <td>0.0</td>\n",
       "      <td>0.0</td>\n",
       "      <td>0.0</td>\n",
       "      <td>2.0</td>\n",
       "      <td>64.000000</td>\n",
       "      <td>0.00</td>\n",
       "      <td>0.10</td>\n",
       "      <td>0.0</td>\n",
       "      <td>2.0</td>\n",
       "      <td>2.0</td>\n",
       "      <td>2.0</td>\n",
       "      <td>1.0</td>\n",
       "      <td>2.0</td>\n",
       "      <td>0.0</td>\n",
       "      <td>0.0</td>\n",
       "      <td>0.0</td>\n",
       "      <td>0.0</td>\n",
       "      <td>1.0</td>\n",
       "      <td>0.0</td>\n",
       "    </tr>\n",
       "    <tr>\n",
       "      <th>2</th>\n",
       "      <td>0.0</td>\n",
       "      <td>-1.0</td>\n",
       "      <td>0.0</td>\n",
       "      <td>-1.0</td>\n",
       "      <td>1.0</td>\n",
       "      <td>-1.000000</td>\n",
       "      <td>0.20</td>\n",
       "      <td>0.20</td>\n",
       "      <td>0.0</td>\n",
       "      <td>2.0</td>\n",
       "      <td>4.0</td>\n",
       "      <td>1.0</td>\n",
       "      <td>9.0</td>\n",
       "      <td>3.0</td>\n",
       "      <td>0.0</td>\n",
       "      <td>0.0</td>\n",
       "      <td>0.0</td>\n",
       "      <td>0.0</td>\n",
       "      <td>1.0</td>\n",
       "      <td>0.0</td>\n",
       "    </tr>\n",
       "    <tr>\n",
       "      <th>3</th>\n",
       "      <td>0.0</td>\n",
       "      <td>0.0</td>\n",
       "      <td>0.0</td>\n",
       "      <td>0.0</td>\n",
       "      <td>2.0</td>\n",
       "      <td>479.647091</td>\n",
       "      <td>0.05</td>\n",
       "      <td>0.14</td>\n",
       "      <td>0.0</td>\n",
       "      <td>2.0</td>\n",
       "      <td>3.0</td>\n",
       "      <td>2.0</td>\n",
       "      <td>2.0</td>\n",
       "      <td>4.0</td>\n",
       "      <td>0.0</td>\n",
       "      <td>0.0</td>\n",
       "      <td>0.0</td>\n",
       "      <td>0.0</td>\n",
       "      <td>1.0</td>\n",
       "      <td>0.0</td>\n",
       "    </tr>\n",
       "    <tr>\n",
       "      <th>4</th>\n",
       "      <td>0.0</td>\n",
       "      <td>0.0</td>\n",
       "      <td>0.0</td>\n",
       "      <td>0.0</td>\n",
       "      <td>10.0</td>\n",
       "      <td>627.500000</td>\n",
       "      <td>0.02</td>\n",
       "      <td>0.05</td>\n",
       "      <td>0.0</td>\n",
       "      <td>2.0</td>\n",
       "      <td>3.0</td>\n",
       "      <td>3.0</td>\n",
       "      <td>1.0</td>\n",
       "      <td>4.0</td>\n",
       "      <td>1.0</td>\n",
       "      <td>0.0</td>\n",
       "      <td>0.0</td>\n",
       "      <td>0.0</td>\n",
       "      <td>1.0</td>\n",
       "      <td>0.0</td>\n",
       "    </tr>\n",
       "  </tbody>\n",
       "</table>\n",
       "</div>"
      ],
      "text/plain": [
       "   Administrative  Administrative_Duration  Informational  \\\n",
       "0             0.0                      0.0            0.0   \n",
       "1             0.0                      0.0            0.0   \n",
       "2             0.0                     -1.0            0.0   \n",
       "3             0.0                      0.0            0.0   \n",
       "4             0.0                      0.0            0.0   \n",
       "\n",
       "   Informational_Duration  ProductRelated  ProductRelated_Duration  \\\n",
       "0                     0.0             1.0                 0.000000   \n",
       "1                     0.0             2.0                64.000000   \n",
       "2                    -1.0             1.0                -1.000000   \n",
       "3                     0.0             2.0               479.647091   \n",
       "4                     0.0            10.0               627.500000   \n",
       "\n",
       "   BounceRates  ExitRates  SpecialDay  Month  OperatingSystems  Browser  \\\n",
       "0         0.20       0.20         0.0    2.0               1.0      1.0   \n",
       "1         0.00       0.10         0.0    2.0               2.0      2.0   \n",
       "2         0.20       0.20         0.0    2.0               4.0      1.0   \n",
       "3         0.05       0.14         0.0    2.0               3.0      2.0   \n",
       "4         0.02       0.05         0.0    2.0               3.0      3.0   \n",
       "\n",
       "   Region  TrafficType  Weekend  Revenue  New_Visitor  Other  \\\n",
       "0     1.0          1.0      0.0      0.0          0.0    0.0   \n",
       "1     1.0          2.0      0.0      0.0          0.0    0.0   \n",
       "2     9.0          3.0      0.0      0.0          0.0    0.0   \n",
       "3     2.0          4.0      0.0      0.0          0.0    0.0   \n",
       "4     1.0          4.0      1.0      0.0          0.0    0.0   \n",
       "\n",
       "   Returning_Visitor  PageValues  \n",
       "0                1.0         0.0  \n",
       "1                1.0         0.0  \n",
       "2                1.0         0.0  \n",
       "3                1.0         0.0  \n",
       "4                1.0         0.0  "
      ]
     },
     "execution_count": 5,
     "metadata": {},
     "output_type": "execute_result"
    }
   ],
   "source": [
    "df.head()"
   ]
  },
  {
   "cell_type": "markdown",
   "metadata": {},
   "source": [
    "## Transform data"
   ]
  },
  {
   "cell_type": "code",
   "execution_count": 6,
   "metadata": {},
   "outputs": [],
   "source": [
    "data = pca.fit_transform(df.drop(columns='Revenue', axis=1))"
   ]
  },
  {
   "cell_type": "code",
   "execution_count": 7,
   "metadata": {},
   "outputs": [],
   "source": [
    "df_pca = pd.DataFrame(data, columns=['pc'+str(i) for i in range(df.drop(columns='Revenue', axis=1).shape[1])])"
   ]
  },
  {
   "cell_type": "code",
   "execution_count": 8,
   "metadata": {},
   "outputs": [],
   "source": [
    "# Add target column\n",
    "df_pca['Revenue'] = df.Revenue"
   ]
  },
  {
   "cell_type": "code",
   "execution_count": 9,
   "metadata": {},
   "outputs": [
    {
     "data": {
      "text/html": [
       "<div>\n",
       "<style scoped>\n",
       "    .dataframe tbody tr th:only-of-type {\n",
       "        vertical-align: middle;\n",
       "    }\n",
       "\n",
       "    .dataframe tbody tr th {\n",
       "        vertical-align: top;\n",
       "    }\n",
       "\n",
       "    .dataframe thead th {\n",
       "        text-align: right;\n",
       "    }\n",
       "</style>\n",
       "<table border=\"1\" class=\"dataframe\">\n",
       "  <thead>\n",
       "    <tr style=\"text-align: right;\">\n",
       "      <th></th>\n",
       "      <th>pc0</th>\n",
       "      <th>pc1</th>\n",
       "      <th>pc2</th>\n",
       "      <th>pc3</th>\n",
       "      <th>pc4</th>\n",
       "      <th>pc5</th>\n",
       "      <th>pc6</th>\n",
       "      <th>pc7</th>\n",
       "      <th>pc8</th>\n",
       "      <th>pc9</th>\n",
       "      <th>pc10</th>\n",
       "      <th>pc11</th>\n",
       "      <th>pc12</th>\n",
       "      <th>pc13</th>\n",
       "      <th>pc14</th>\n",
       "      <th>pc15</th>\n",
       "      <th>pc16</th>\n",
       "      <th>pc17</th>\n",
       "      <th>pc18</th>\n",
       "      <th>Revenue</th>\n",
       "    </tr>\n",
       "  </thead>\n",
       "  <tbody>\n",
       "    <tr>\n",
       "      <th>0</th>\n",
       "      <td>-481.989295</td>\n",
       "      <td>-51.104166</td>\n",
       "      <td>-6.907223</td>\n",
       "      <td>-19.427095</td>\n",
       "      <td>-2.742101</td>\n",
       "      <td>-4.208827</td>\n",
       "      <td>0.942304</td>\n",
       "      <td>4.907580</td>\n",
       "      <td>0.747843</td>\n",
       "      <td>-1.918689</td>\n",
       "      <td>-0.835306</td>\n",
       "      <td>-0.061088</td>\n",
       "      <td>-0.150158</td>\n",
       "      <td>-0.203354</td>\n",
       "      <td>-0.146341</td>\n",
       "      <td>0.054185</td>\n",
       "      <td>0.202592</td>\n",
       "      <td>-0.012871</td>\n",
       "      <td>4.154782e-15</td>\n",
       "      <td>0.0</td>\n",
       "    </tr>\n",
       "    <tr>\n",
       "      <th>1</th>\n",
       "      <td>-418.017323</td>\n",
       "      <td>-53.230286</td>\n",
       "      <td>-6.939236</td>\n",
       "      <td>-19.247165</td>\n",
       "      <td>-2.878394</td>\n",
       "      <td>-2.827885</td>\n",
       "      <td>1.465033</td>\n",
       "      <td>4.981009</td>\n",
       "      <td>0.730050</td>\n",
       "      <td>-1.857999</td>\n",
       "      <td>0.072546</td>\n",
       "      <td>-0.038818</td>\n",
       "      <td>-0.144089</td>\n",
       "      <td>-0.193674</td>\n",
       "      <td>-0.153979</td>\n",
       "      <td>0.024747</td>\n",
       "      <td>-0.009298</td>\n",
       "      <td>0.050925</td>\n",
       "      <td>2.295804e-15</td>\n",
       "      <td>0.0</td>\n",
       "    </tr>\n",
       "    <tr>\n",
       "      <th>2</th>\n",
       "      <td>-483.031958</td>\n",
       "      <td>-52.355612</td>\n",
       "      <td>-7.491533</td>\n",
       "      <td>-19.310897</td>\n",
       "      <td>-2.736874</td>\n",
       "      <td>-0.825387</td>\n",
       "      <td>2.758104</td>\n",
       "      <td>4.673663</td>\n",
       "      <td>0.355348</td>\n",
       "      <td>5.866356</td>\n",
       "      <td>-2.029493</td>\n",
       "      <td>-0.015452</td>\n",
       "      <td>-0.186050</td>\n",
       "      <td>-0.208912</td>\n",
       "      <td>-0.149557</td>\n",
       "      <td>0.011795</td>\n",
       "      <td>0.203052</td>\n",
       "      <td>-0.012629</td>\n",
       "      <td>1.566759e-15</td>\n",
       "      <td>0.0</td>\n",
       "    </tr>\n",
       "    <tr>\n",
       "      <th>3</th>\n",
       "      <td>-2.650685</td>\n",
       "      <td>-67.496747</td>\n",
       "      <td>-7.530084</td>\n",
       "      <td>-24.518337</td>\n",
       "      <td>-4.042510</td>\n",
       "      <td>-0.554671</td>\n",
       "      <td>1.616105</td>\n",
       "      <td>5.175980</td>\n",
       "      <td>0.573126</td>\n",
       "      <td>-1.017738</td>\n",
       "      <td>-0.209001</td>\n",
       "      <td>-0.033571</td>\n",
       "      <td>-0.144658</td>\n",
       "      <td>-0.193611</td>\n",
       "      <td>-0.159196</td>\n",
       "      <td>0.016280</td>\n",
       "      <td>0.063729</td>\n",
       "      <td>0.047150</td>\n",
       "      <td>-8.955250e-16</td>\n",
       "      <td>0.0</td>\n",
       "    </tr>\n",
       "    <tr>\n",
       "      <th>4</th>\n",
       "      <td>145.224616</td>\n",
       "      <td>-71.999472</td>\n",
       "      <td>-7.262105</td>\n",
       "      <td>-18.435645</td>\n",
       "      <td>-4.100349</td>\n",
       "      <td>-0.505537</td>\n",
       "      <td>1.657201</td>\n",
       "      <td>5.307223</td>\n",
       "      <td>0.807379</td>\n",
       "      <td>-1.872226</td>\n",
       "      <td>0.885458</td>\n",
       "      <td>-0.048973</td>\n",
       "      <td>0.043347</td>\n",
       "      <td>0.802057</td>\n",
       "      <td>-0.158267</td>\n",
       "      <td>0.007412</td>\n",
       "      <td>-0.006334</td>\n",
       "      <td>0.003736</td>\n",
       "      <td>1.903098e-16</td>\n",
       "      <td>0.0</td>\n",
       "    </tr>\n",
       "  </tbody>\n",
       "</table>\n",
       "</div>"
      ],
      "text/plain": [
       "          pc0        pc1       pc2        pc3       pc4       pc5       pc6  \\\n",
       "0 -481.989295 -51.104166 -6.907223 -19.427095 -2.742101 -4.208827  0.942304   \n",
       "1 -418.017323 -53.230286 -6.939236 -19.247165 -2.878394 -2.827885  1.465033   \n",
       "2 -483.031958 -52.355612 -7.491533 -19.310897 -2.736874 -0.825387  2.758104   \n",
       "3   -2.650685 -67.496747 -7.530084 -24.518337 -4.042510 -0.554671  1.616105   \n",
       "4  145.224616 -71.999472 -7.262105 -18.435645 -4.100349 -0.505537  1.657201   \n",
       "\n",
       "        pc7       pc8       pc9      pc10      pc11      pc12      pc13  \\\n",
       "0  4.907580  0.747843 -1.918689 -0.835306 -0.061088 -0.150158 -0.203354   \n",
       "1  4.981009  0.730050 -1.857999  0.072546 -0.038818 -0.144089 -0.193674   \n",
       "2  4.673663  0.355348  5.866356 -2.029493 -0.015452 -0.186050 -0.208912   \n",
       "3  5.175980  0.573126 -1.017738 -0.209001 -0.033571 -0.144658 -0.193611   \n",
       "4  5.307223  0.807379 -1.872226  0.885458 -0.048973  0.043347  0.802057   \n",
       "\n",
       "       pc14      pc15      pc16      pc17          pc18  Revenue  \n",
       "0 -0.146341  0.054185  0.202592 -0.012871  4.154782e-15      0.0  \n",
       "1 -0.153979  0.024747 -0.009298  0.050925  2.295804e-15      0.0  \n",
       "2 -0.149557  0.011795  0.203052 -0.012629  1.566759e-15      0.0  \n",
       "3 -0.159196  0.016280  0.063729  0.047150 -8.955250e-16      0.0  \n",
       "4 -0.158267  0.007412 -0.006334  0.003736  1.903098e-16      0.0  "
      ]
     },
     "execution_count": 9,
     "metadata": {},
     "output_type": "execute_result"
    }
   ],
   "source": [
    "df_pca.head()"
   ]
  },
  {
   "cell_type": "code",
   "execution_count": 10,
   "metadata": {},
   "outputs": [
    {
     "data": {
      "image/png": "[encoded data removed]",
      "text/plain": [
       "<Figure size 720x576 with 1 Axes>"
      ]
     },
     "metadata": {
      "needs_background": "light"
     },
     "output_type": "display_data"
    }
   ],
   "source": [
    "plt.bar(x=['pc'+str(i) for i in range(df.drop(columns='Revenue', axis=1).shape[1])], height=pca.explained_variance_ratio_);"
   ]
  },
  {
   "cell_type": "code",
   "execution_count": 11,
   "metadata": {},
   "outputs": [
    {
     "data": {
      "image/png": "[encoded data removed]",
      "text/plain": [
       "<Figure size 720x576 with 1 Axes>"
      ]
     },
     "metadata": {
      "needs_background": "light"
     },
     "output_type": "display_data"
    }
   ],
   "source": [
    "plt.bar(x=['pc'+str(i) for i in range(df.drop(columns='Revenue', axis=1).shape[1])], height=np.cumsum(pca.explained_variance_ratio_));"
   ]
  },
  {
   "cell_type": "code",
   "execution_count": 12,
   "metadata": {
    "scrolled": true
   },
   "outputs": [
    {
     "data": {
      "text/plain": [
       "array([0.88956738, 0.94746617, 0.99076233, 0.9962628 , 0.99981389,\n",
       "       0.99986513, 0.9999116 , 0.9999455 , 0.99996887, 0.99998664,\n",
       "       0.9999954 , 0.9999986 , 0.99999931, 0.99999985, 0.99999996,\n",
       "       0.99999999, 1.        , 1.        , 1.        ])"
      ]
     },
     "execution_count": 12,
     "metadata": {},
     "output_type": "execute_result"
    }
   ],
   "source": [
    "np.cumsum(pca.explained_variance_ratio_)"
   ]
  },
  {
   "cell_type": "markdown",
   "metadata": {},
   "source": [
    "We can see that the first 4 components explained the 99.7% of the variance. So we can keep 4 components."
   ]
  },
  {
   "cell_type": "markdown",
   "metadata": {},
   "source": [
    "Let's obtain these new pca components to what variables they correspond:"
   ]
  },
  {
   "cell_type": "code",
   "execution_count": 13,
   "metadata": {},
   "outputs": [],
   "source": [
    "componentes = pd.DataFrame(pca.components_, \n",
    "             columns=[df.drop(columns='Revenue', axis=1).columns], \n",
    "             index=['pc'+str(i) for i in range(df.drop(columns='Revenue', axis=1).shape[1])])"
   ]
  },
  {
   "cell_type": "markdown",
   "metadata": {},
   "source": [
    "Let's do a heatmap to see visually the components that each new component corresponds to:"
   ]
  },
  {
   "cell_type": "code",
   "execution_count": 14,
   "metadata": {},
   "outputs": [
    {
     "data": {
      "text/plain": [
       "<matplotlib.axes._subplots.AxesSubplot at 0x7fd98b18cb50>"
      ]
     },
     "execution_count": 14,
     "metadata": {},
     "output_type": "execute_result"
    },
    {
     "data": {
      "image/png": "[encoded data removed]",
      "text/plain": [
       "<Figure size 720x576 with 2 Axes>"
      ]
     },
     "metadata": {
      "needs_background": "light"
     },
     "output_type": "display_data"
    }
   ],
   "source": [
    "sns.heatmap(componentes, cmap='coolwarm', center=0, linewidths=1)"
   ]
  },
  {
   "cell_type": "markdown",
   "metadata": {},
   "source": [
    "## Re-do the transformation to have only 4 components"
   ]
  },
  {
   "cell_type": "code",
   "execution_count": 19,
   "metadata": {},
   "outputs": [],
   "source": [
    "pca_4 = PCA(n_components=4)\n",
    "data = pca_4.fit_transform(df.drop(columns='Revenue', axis=1))\n",
    "pca_df = pd.DataFrame(data, columns = ['pca_' + str(i+1) for i in range(pca_4.n_components_)])"
   ]
  },
  {
   "cell_type": "code",
   "execution_count": 20,
   "metadata": {},
   "outputs": [
    {
     "data": {
      "text/html": [
       "<div>\n",
       "<style scoped>\n",
       "    .dataframe tbody tr th:only-of-type {\n",
       "        vertical-align: middle;\n",
       "    }\n",
       "\n",
       "    .dataframe tbody tr th {\n",
       "        vertical-align: top;\n",
       "    }\n",
       "\n",
       "    .dataframe thead th {\n",
       "        text-align: right;\n",
       "    }\n",
       "</style>\n",
       "<table border=\"1\" class=\"dataframe\">\n",
       "  <thead>\n",
       "    <tr style=\"text-align: right;\">\n",
       "      <th></th>\n",
       "      <th>pca_1</th>\n",
       "      <th>pca_2</th>\n",
       "      <th>pca_3</th>\n",
       "      <th>pca_4</th>\n",
       "    </tr>\n",
       "  </thead>\n",
       "  <tbody>\n",
       "    <tr>\n",
       "      <th>0</th>\n",
       "      <td>-481.989295</td>\n",
       "      <td>-51.104166</td>\n",
       "      <td>-6.907223</td>\n",
       "      <td>-19.427095</td>\n",
       "    </tr>\n",
       "    <tr>\n",
       "      <th>1</th>\n",
       "      <td>-418.017323</td>\n",
       "      <td>-53.230286</td>\n",
       "      <td>-6.939236</td>\n",
       "      <td>-19.247165</td>\n",
       "    </tr>\n",
       "    <tr>\n",
       "      <th>2</th>\n",
       "      <td>-483.031958</td>\n",
       "      <td>-52.355612</td>\n",
       "      <td>-7.491533</td>\n",
       "      <td>-19.310897</td>\n",
       "    </tr>\n",
       "    <tr>\n",
       "      <th>3</th>\n",
       "      <td>-2.650685</td>\n",
       "      <td>-67.496747</td>\n",
       "      <td>-7.530084</td>\n",
       "      <td>-24.518337</td>\n",
       "    </tr>\n",
       "    <tr>\n",
       "      <th>4</th>\n",
       "      <td>145.224616</td>\n",
       "      <td>-71.999472</td>\n",
       "      <td>-7.262105</td>\n",
       "      <td>-18.435645</td>\n",
       "    </tr>\n",
       "  </tbody>\n",
       "</table>\n",
       "</div>"
      ],
      "text/plain": [
       "        pca_1      pca_2     pca_3      pca_4\n",
       "0 -481.989295 -51.104166 -6.907223 -19.427095\n",
       "1 -418.017323 -53.230286 -6.939236 -19.247165\n",
       "2 -483.031958 -52.355612 -7.491533 -19.310897\n",
       "3   -2.650685 -67.496747 -7.530084 -24.518337\n",
       "4  145.224616 -71.999472 -7.262105 -18.435645"
      ]
     },
     "execution_count": 20,
     "metadata": {},
     "output_type": "execute_result"
    }
   ],
   "source": [
    "pca_df.head()"
   ]
  },
  {
   "cell_type": "markdown",
   "metadata": {},
   "source": [
    "## Export the transformed data"
   ]
  },
  {
   "cell_type": "markdown",
   "metadata": {},
   "source": [
    "Add Revenue column to export all together in one csv file:"
   ]
  },
  {
   "cell_type": "code",
   "execution_count": 21,
   "metadata": {},
   "outputs": [],
   "source": [
    "pca_df['Revenue'] = df['Revenue']"
   ]
  },
  {
   "cell_type": "code",
   "execution_count": 22,
   "metadata": {},
   "outputs": [],
   "source": [
    "pca_df.to_csv('../data/3.PCA/pca_kmean_df.csv', index=False)"
   ]
  },
  {
   "cell_type": "markdown",
   "metadata": {},
   "source": [
    "# DF filled with 0"
   ]
  },
  {
   "cell_type": "code",
   "execution_count": 23,
   "metadata": {},
   "outputs": [],
   "source": [
    "df = pd.read_csv('../data/0.NaNs/df_0_oh.csv')"
   ]
  },
  {
   "cell_type": "code",
   "execution_count": 24,
   "metadata": {
    "scrolled": false
   },
   "outputs": [
    {
     "data": {
      "text/html": [
       "<div>\n",
       "<style scoped>\n",
       "    .dataframe tbody tr th:only-of-type {\n",
       "        vertical-align: middle;\n",
       "    }\n",
       "\n",
       "    .dataframe tbody tr th {\n",
       "        vertical-align: top;\n",
       "    }\n",
       "\n",
       "    .dataframe thead th {\n",
       "        text-align: right;\n",
       "    }\n",
       "</style>\n",
       "<table border=\"1\" class=\"dataframe\">\n",
       "  <thead>\n",
       "    <tr style=\"text-align: right;\">\n",
       "      <th></th>\n",
       "      <th>Administrative</th>\n",
       "      <th>Administrative_Duration</th>\n",
       "      <th>Informational</th>\n",
       "      <th>Informational_Duration</th>\n",
       "      <th>ProductRelated</th>\n",
       "      <th>ProductRelated_Duration</th>\n",
       "      <th>BounceRates</th>\n",
       "      <th>ExitRates</th>\n",
       "      <th>PageValues</th>\n",
       "      <th>SpecialDay</th>\n",
       "      <th>Month</th>\n",
       "      <th>OperatingSystems</th>\n",
       "      <th>Browser</th>\n",
       "      <th>Region</th>\n",
       "      <th>TrafficType</th>\n",
       "      <th>Weekend</th>\n",
       "      <th>Revenue</th>\n",
       "      <th>New_Visitor</th>\n",
       "      <th>Other</th>\n",
       "      <th>Returning_Visitor</th>\n",
       "    </tr>\n",
       "  </thead>\n",
       "  <tbody>\n",
       "    <tr>\n",
       "      <th>0</th>\n",
       "      <td>0.0</td>\n",
       "      <td>0.0</td>\n",
       "      <td>0.0</td>\n",
       "      <td>0.0</td>\n",
       "      <td>1.0</td>\n",
       "      <td>0.0</td>\n",
       "      <td>0.20</td>\n",
       "      <td>0.20</td>\n",
       "      <td>0.0</td>\n",
       "      <td>0.0</td>\n",
       "      <td>2</td>\n",
       "      <td>1.0</td>\n",
       "      <td>1</td>\n",
       "      <td>1</td>\n",
       "      <td>1</td>\n",
       "      <td>0</td>\n",
       "      <td>0</td>\n",
       "      <td>0.0</td>\n",
       "      <td>0.0</td>\n",
       "      <td>1.0</td>\n",
       "    </tr>\n",
       "    <tr>\n",
       "      <th>1</th>\n",
       "      <td>0.0</td>\n",
       "      <td>0.0</td>\n",
       "      <td>0.0</td>\n",
       "      <td>0.0</td>\n",
       "      <td>2.0</td>\n",
       "      <td>64.0</td>\n",
       "      <td>0.00</td>\n",
       "      <td>0.10</td>\n",
       "      <td>0.0</td>\n",
       "      <td>0.0</td>\n",
       "      <td>2</td>\n",
       "      <td>2.0</td>\n",
       "      <td>2</td>\n",
       "      <td>1</td>\n",
       "      <td>2</td>\n",
       "      <td>0</td>\n",
       "      <td>0</td>\n",
       "      <td>0.0</td>\n",
       "      <td>0.0</td>\n",
       "      <td>1.0</td>\n",
       "    </tr>\n",
       "    <tr>\n",
       "      <th>2</th>\n",
       "      <td>0.0</td>\n",
       "      <td>-1.0</td>\n",
       "      <td>0.0</td>\n",
       "      <td>-1.0</td>\n",
       "      <td>1.0</td>\n",
       "      <td>-1.0</td>\n",
       "      <td>0.20</td>\n",
       "      <td>0.20</td>\n",
       "      <td>0.0</td>\n",
       "      <td>0.0</td>\n",
       "      <td>2</td>\n",
       "      <td>4.0</td>\n",
       "      <td>1</td>\n",
       "      <td>9</td>\n",
       "      <td>3</td>\n",
       "      <td>0</td>\n",
       "      <td>0</td>\n",
       "      <td>0.0</td>\n",
       "      <td>0.0</td>\n",
       "      <td>1.0</td>\n",
       "    </tr>\n",
       "    <tr>\n",
       "      <th>3</th>\n",
       "      <td>0.0</td>\n",
       "      <td>0.0</td>\n",
       "      <td>0.0</td>\n",
       "      <td>0.0</td>\n",
       "      <td>2.0</td>\n",
       "      <td>0.0</td>\n",
       "      <td>0.05</td>\n",
       "      <td>0.14</td>\n",
       "      <td>0.0</td>\n",
       "      <td>0.0</td>\n",
       "      <td>2</td>\n",
       "      <td>3.0</td>\n",
       "      <td>2</td>\n",
       "      <td>2</td>\n",
       "      <td>4</td>\n",
       "      <td>0</td>\n",
       "      <td>0</td>\n",
       "      <td>0.0</td>\n",
       "      <td>0.0</td>\n",
       "      <td>1.0</td>\n",
       "    </tr>\n",
       "    <tr>\n",
       "      <th>4</th>\n",
       "      <td>0.0</td>\n",
       "      <td>0.0</td>\n",
       "      <td>0.0</td>\n",
       "      <td>0.0</td>\n",
       "      <td>10.0</td>\n",
       "      <td>627.5</td>\n",
       "      <td>0.02</td>\n",
       "      <td>0.05</td>\n",
       "      <td>0.0</td>\n",
       "      <td>0.0</td>\n",
       "      <td>2</td>\n",
       "      <td>3.0</td>\n",
       "      <td>3</td>\n",
       "      <td>1</td>\n",
       "      <td>4</td>\n",
       "      <td>1</td>\n",
       "      <td>0</td>\n",
       "      <td>0.0</td>\n",
       "      <td>0.0</td>\n",
       "      <td>1.0</td>\n",
       "    </tr>\n",
       "  </tbody>\n",
       "</table>\n",
       "</div>"
      ],
      "text/plain": [
       "   Administrative  Administrative_Duration  Informational  \\\n",
       "0             0.0                      0.0            0.0   \n",
       "1             0.0                      0.0            0.0   \n",
       "2             0.0                     -1.0            0.0   \n",
       "3             0.0                      0.0            0.0   \n",
       "4             0.0                      0.0            0.0   \n",
       "\n",
       "   Informational_Duration  ProductRelated  ProductRelated_Duration  \\\n",
       "0                     0.0             1.0                      0.0   \n",
       "1                     0.0             2.0                     64.0   \n",
       "2                    -1.0             1.0                     -1.0   \n",
       "3                     0.0             2.0                      0.0   \n",
       "4                     0.0            10.0                    627.5   \n",
       "\n",
       "   BounceRates  ExitRates  PageValues  SpecialDay  Month  OperatingSystems  \\\n",
       "0         0.20       0.20         0.0         0.0      2               1.0   \n",
       "1         0.00       0.10         0.0         0.0      2               2.0   \n",
       "2         0.20       0.20         0.0         0.0      2               4.0   \n",
       "3         0.05       0.14         0.0         0.0      2               3.0   \n",
       "4         0.02       0.05         0.0         0.0      2               3.0   \n",
       "\n",
       "   Browser  Region  TrafficType  Weekend  Revenue  New_Visitor  Other  \\\n",
       "0        1       1            1        0        0          0.0    0.0   \n",
       "1        2       1            2        0        0          0.0    0.0   \n",
       "2        1       9            3        0        0          0.0    0.0   \n",
       "3        2       2            4        0        0          0.0    0.0   \n",
       "4        3       1            4        1        0          0.0    0.0   \n",
       "\n",
       "   Returning_Visitor  \n",
       "0                1.0  \n",
       "1                1.0  \n",
       "2                1.0  \n",
       "3                1.0  \n",
       "4                1.0  "
      ]
     },
     "execution_count": 24,
     "metadata": {},
     "output_type": "execute_result"
    }
   ],
   "source": [
    "df.head()"
   ]
  },
  {
   "cell_type": "markdown",
   "metadata": {},
   "source": [
    "## Transform data"
   ]
  },
  {
   "cell_type": "code",
   "execution_count": 25,
   "metadata": {},
   "outputs": [],
   "source": [
    "data = pca.fit_transform(df.drop(columns='Revenue', axis=1))"
   ]
  },
  {
   "cell_type": "code",
   "execution_count": 26,
   "metadata": {},
   "outputs": [],
   "source": [
    "df_pca = pd.DataFrame(data, columns=['pc'+str(i) for i in range(df.drop(columns='Revenue', axis=1).shape[1])])"
   ]
  },
  {
   "cell_type": "code",
   "execution_count": 27,
   "metadata": {},
   "outputs": [],
   "source": [
    "# Add target column\n",
    "df_pca['Revenue'] = df.Revenue"
   ]
  },
  {
   "cell_type": "code",
   "execution_count": 28,
   "metadata": {},
   "outputs": [
    {
     "data": {
      "text/html": [
       "<div>\n",
       "<style scoped>\n",
       "    .dataframe tbody tr th:only-of-type {\n",
       "        vertical-align: middle;\n",
       "    }\n",
       "\n",
       "    .dataframe tbody tr th {\n",
       "        vertical-align: top;\n",
       "    }\n",
       "\n",
       "    .dataframe thead th {\n",
       "        text-align: right;\n",
       "    }\n",
       "</style>\n",
       "<table border=\"1\" class=\"dataframe\">\n",
       "  <thead>\n",
       "    <tr style=\"text-align: right;\">\n",
       "      <th></th>\n",
       "      <th>pc0</th>\n",
       "      <th>pc1</th>\n",
       "      <th>pc2</th>\n",
       "      <th>pc3</th>\n",
       "      <th>pc4</th>\n",
       "      <th>pc5</th>\n",
       "      <th>pc6</th>\n",
       "      <th>pc7</th>\n",
       "      <th>pc8</th>\n",
       "      <th>pc9</th>\n",
       "      <th>pc10</th>\n",
       "      <th>pc11</th>\n",
       "      <th>pc12</th>\n",
       "      <th>pc13</th>\n",
       "      <th>pc14</th>\n",
       "      <th>pc15</th>\n",
       "      <th>pc16</th>\n",
       "      <th>pc17</th>\n",
       "      <th>pc18</th>\n",
       "      <th>Revenue</th>\n",
       "    </tr>\n",
       "  </thead>\n",
       "  <tbody>\n",
       "    <tr>\n",
       "      <th>0</th>\n",
       "      <td>-240.551384</td>\n",
       "      <td>-56.975198</td>\n",
       "      <td>-15.816848</td>\n",
       "      <td>-26.561074</td>\n",
       "      <td>-2.307500</td>\n",
       "      <td>-4.162581</td>\n",
       "      <td>0.999301</td>\n",
       "      <td>4.947374</td>\n",
       "      <td>0.856401</td>\n",
       "      <td>-1.930669</td>\n",
       "      <td>-0.838942</td>\n",
       "      <td>-0.072481</td>\n",
       "      <td>-0.145777</td>\n",
       "      <td>-0.204253</td>\n",
       "      <td>-0.146016</td>\n",
       "      <td>0.056898</td>\n",
       "      <td>0.209778</td>\n",
       "      <td>-0.012989</td>\n",
       "      <td>5.436670e-15</td>\n",
       "      <td>0</td>\n",
       "    </tr>\n",
       "    <tr>\n",
       "      <th>1</th>\n",
       "      <td>-176.557574</td>\n",
       "      <td>-57.666367</td>\n",
       "      <td>-15.387076</td>\n",
       "      <td>-25.494301</td>\n",
       "      <td>-2.385666</td>\n",
       "      <td>-2.788616</td>\n",
       "      <td>1.514271</td>\n",
       "      <td>5.011138</td>\n",
       "      <td>0.819285</td>\n",
       "      <td>-1.870040</td>\n",
       "      <td>0.068023</td>\n",
       "      <td>-0.048866</td>\n",
       "      <td>-0.140556</td>\n",
       "      <td>-0.194177</td>\n",
       "      <td>-0.153734</td>\n",
       "      <td>0.026071</td>\n",
       "      <td>-0.002521</td>\n",
       "      <td>0.051817</td>\n",
       "      <td>-3.769868e-15</td>\n",
       "      <td>0</td>\n",
       "    </tr>\n",
       "    <tr>\n",
       "      <th>2</th>\n",
       "      <td>-241.561333</td>\n",
       "      <td>-58.200256</td>\n",
       "      <td>-16.507328</td>\n",
       "      <td>-26.461736</td>\n",
       "      <td>-2.316886</td>\n",
       "      <td>-0.777408</td>\n",
       "      <td>2.803142</td>\n",
       "      <td>4.706292</td>\n",
       "      <td>0.447526</td>\n",
       "      <td>5.855879</td>\n",
       "      <td>-2.029872</td>\n",
       "      <td>-0.025497</td>\n",
       "      <td>-0.181551</td>\n",
       "      <td>-0.210175</td>\n",
       "      <td>-0.149171</td>\n",
       "      <td>0.014523</td>\n",
       "      <td>0.210764</td>\n",
       "      <td>-0.012677</td>\n",
       "      <td>8.698297e-16</td>\n",
       "      <td>0</td>\n",
       "    </tr>\n",
       "    <tr>\n",
       "      <th>3</th>\n",
       "      <td>-240.551766</td>\n",
       "      <td>-56.916677</td>\n",
       "      <td>-15.749602</td>\n",
       "      <td>-25.579591</td>\n",
       "      <td>-2.293536</td>\n",
       "      <td>-0.526695</td>\n",
       "      <td>1.612973</td>\n",
       "      <td>5.225667</td>\n",
       "      <td>0.728348</td>\n",
       "      <td>-0.980324</td>\n",
       "      <td>-0.181578</td>\n",
       "      <td>-0.041021</td>\n",
       "      <td>-0.142496</td>\n",
       "      <td>-0.198097</td>\n",
       "      <td>-0.159538</td>\n",
       "      <td>0.015354</td>\n",
       "      <td>0.058872</td>\n",
       "      <td>0.046489</td>\n",
       "      <td>-2.350782e-16</td>\n",
       "      <td>0</td>\n",
       "    </tr>\n",
       "    <tr>\n",
       "      <th>4</th>\n",
       "      <td>386.887306</td>\n",
       "      <td>-63.793789</td>\n",
       "      <td>-11.651854</td>\n",
       "      <td>-16.873476</td>\n",
       "      <td>-3.071917</td>\n",
       "      <td>-0.537731</td>\n",
       "      <td>1.667153</td>\n",
       "      <td>5.260777</td>\n",
       "      <td>0.776132</td>\n",
       "      <td>-1.886092</td>\n",
       "      <td>0.870687</td>\n",
       "      <td>-0.048702</td>\n",
       "      <td>0.040498</td>\n",
       "      <td>0.805894</td>\n",
       "      <td>-0.158338</td>\n",
       "      <td>0.007441</td>\n",
       "      <td>-0.007824</td>\n",
       "      <td>0.003349</td>\n",
       "      <td>4.188455e-16</td>\n",
       "      <td>0</td>\n",
       "    </tr>\n",
       "  </tbody>\n",
       "</table>\n",
       "</div>"
      ],
      "text/plain": [
       "          pc0        pc1        pc2        pc3       pc4       pc5       pc6  \\\n",
       "0 -240.551384 -56.975198 -15.816848 -26.561074 -2.307500 -4.162581  0.999301   \n",
       "1 -176.557574 -57.666367 -15.387076 -25.494301 -2.385666 -2.788616  1.514271   \n",
       "2 -241.561333 -58.200256 -16.507328 -26.461736 -2.316886 -0.777408  2.803142   \n",
       "3 -240.551766 -56.916677 -15.749602 -25.579591 -2.293536 -0.526695  1.612973   \n",
       "4  386.887306 -63.793789 -11.651854 -16.873476 -3.071917 -0.537731  1.667153   \n",
       "\n",
       "        pc7       pc8       pc9      pc10      pc11      pc12      pc13  \\\n",
       "0  4.947374  0.856401 -1.930669 -0.838942 -0.072481 -0.145777 -0.204253   \n",
       "1  5.011138  0.819285 -1.870040  0.068023 -0.048866 -0.140556 -0.194177   \n",
       "2  4.706292  0.447526  5.855879 -2.029872 -0.025497 -0.181551 -0.210175   \n",
       "3  5.225667  0.728348 -0.980324 -0.181578 -0.041021 -0.142496 -0.198097   \n",
       "4  5.260777  0.776132 -1.886092  0.870687 -0.048702  0.040498  0.805894   \n",
       "\n",
       "       pc14      pc15      pc16      pc17          pc18  Revenue  \n",
       "0 -0.146016  0.056898  0.209778 -0.012989  5.436670e-15        0  \n",
       "1 -0.153734  0.026071 -0.002521  0.051817 -3.769868e-15        0  \n",
       "2 -0.149171  0.014523  0.210764 -0.012677  8.698297e-16        0  \n",
       "3 -0.159538  0.015354  0.058872  0.046489 -2.350782e-16        0  \n",
       "4 -0.158338  0.007441 -0.007824  0.003349  4.188455e-16        0  "
      ]
     },
     "execution_count": 28,
     "metadata": {},
     "output_type": "execute_result"
    }
   ],
   "source": [
    "df_pca.head()"
   ]
  },
  {
   "cell_type": "code",
   "execution_count": 29,
   "metadata": {},
   "outputs": [
    {
     "data": {
      "image/png": "[encoded data removed]",
      "text/plain": [
       "<Figure size 720x576 with 1 Axes>"
      ]
     },
     "metadata": {
      "needs_background": "light"
     },
     "output_type": "display_data"
    }
   ],
   "source": [
    "plt.bar(x=['pc'+str(i) for i in range(df.drop(columns='Revenue', axis=1).shape[1])], height=pca.explained_variance_ratio_);"
   ]
  },
  {
   "cell_type": "code",
   "execution_count": 30,
   "metadata": {},
   "outputs": [
    {
     "data": {
      "image/png": "[encoded data removed]",
      "text/plain": [
       "<Figure size 720x576 with 1 Axes>"
      ]
     },
     "metadata": {
      "needs_background": "light"
     },
     "output_type": "display_data"
    }
   ],
   "source": [
    "plt.bar(x=['pc'+str(i) for i in range(df.drop(columns='Revenue', axis=1).shape[1])], height=np.cumsum(pca.explained_variance_ratio_));"
   ]
  },
  {
   "cell_type": "code",
   "execution_count": 31,
   "metadata": {
    "scrolled": true
   },
   "outputs": [
    {
     "data": {
      "text/plain": [
       "array([0.90504455, 0.95510076, 0.99259505, 0.99745061, 0.99984088,\n",
       "       0.99988439, 0.99992386, 0.99995264, 0.99997353, 0.99998862,\n",
       "       0.99999605, 0.99999881, 0.99999941, 0.99999987, 0.99999997,\n",
       "       0.99999999, 1.        , 1.        , 1.        ])"
      ]
     },
     "execution_count": 31,
     "metadata": {},
     "output_type": "execute_result"
    }
   ],
   "source": [
    "np.cumsum(pca.explained_variance_ratio_)"
   ]
  },
  {
   "cell_type": "markdown",
   "metadata": {},
   "source": [
    "We can see that the first 4 components explained the 99.7% of the variance. So we can keep 4 components."
   ]
  },
  {
   "cell_type": "markdown",
   "metadata": {},
   "source": [
    "Let's obtain these new pca components to what variables they correspond:"
   ]
  },
  {
   "cell_type": "code",
   "execution_count": 32,
   "metadata": {},
   "outputs": [],
   "source": [
    "componentes = pd.DataFrame(pca.components_, \n",
    "             columns=[df.drop(columns='Revenue', axis=1).columns], \n",
    "             index=['pc'+str(i) for i in range(df.drop(columns='Revenue', axis=1).shape[1])])"
   ]
  },
  {
   "cell_type": "markdown",
   "metadata": {},
   "source": [
    "Let's do a heatmap to see visually the components that each new component corresponds to:"
   ]
  },
  {
   "cell_type": "code",
   "execution_count": 33,
   "metadata": {},
   "outputs": [
    {
     "data": {
      "text/plain": [
       "<matplotlib.axes._subplots.AxesSubplot at 0x7fd766721ac0>"
      ]
     },
     "execution_count": 33,
     "metadata": {},
     "output_type": "execute_result"
    },
    {
     "data": {
      "image/png": "[encoded data removed]",
      "text/plain": [
       "<Figure size 720x576 with 2 Axes>"
      ]
     },
     "metadata": {
      "needs_background": "light"
     },
     "output_type": "display_data"
    }
   ],
   "source": [
    "sns.heatmap(componentes, cmap='coolwarm', center=0, linewidths=1)"
   ]
  },
  {
   "cell_type": "markdown",
   "metadata": {},
   "source": [
    "## Re-do the transformation to have only 4 components"
   ]
  },
  {
   "cell_type": "code",
   "execution_count": 32,
   "metadata": {},
   "outputs": [],
   "source": [
    "pca_4 = PCA(n_components=4)\n",
    "data = pca_4.fit_transform(df.drop(columns='Revenue', axis=1))\n",
    "pca_df = pd.DataFrame(data, columns = ['pca_' + str(i+1) for i in range(pca_4.n_components_)])"
   ]
  },
  {
   "cell_type": "code",
   "execution_count": 33,
   "metadata": {},
   "outputs": [
    {
     "data": {
      "text/html": [
       "<div>\n",
       "<style scoped>\n",
       "    .dataframe tbody tr th:only-of-type {\n",
       "        vertical-align: middle;\n",
       "    }\n",
       "\n",
       "    .dataframe tbody tr th {\n",
       "        vertical-align: top;\n",
       "    }\n",
       "\n",
       "    .dataframe thead th {\n",
       "        text-align: right;\n",
       "    }\n",
       "</style>\n",
       "<table border=\"1\" class=\"dataframe\">\n",
       "  <thead>\n",
       "    <tr style=\"text-align: right;\">\n",
       "      <th></th>\n",
       "      <th>pca_1</th>\n",
       "      <th>pca_2</th>\n",
       "      <th>pca_3</th>\n",
       "      <th>pca_4</th>\n",
       "    </tr>\n",
       "  </thead>\n",
       "  <tbody>\n",
       "    <tr>\n",
       "      <th>0</th>\n",
       "      <td>-240.551384</td>\n",
       "      <td>-56.975198</td>\n",
       "      <td>-15.816848</td>\n",
       "      <td>-26.561074</td>\n",
       "    </tr>\n",
       "    <tr>\n",
       "      <th>1</th>\n",
       "      <td>-176.557574</td>\n",
       "      <td>-57.666367</td>\n",
       "      <td>-15.387076</td>\n",
       "      <td>-25.494301</td>\n",
       "    </tr>\n",
       "    <tr>\n",
       "      <th>2</th>\n",
       "      <td>-241.561333</td>\n",
       "      <td>-58.200256</td>\n",
       "      <td>-16.507328</td>\n",
       "      <td>-26.461736</td>\n",
       "    </tr>\n",
       "    <tr>\n",
       "      <th>3</th>\n",
       "      <td>-240.551766</td>\n",
       "      <td>-56.916677</td>\n",
       "      <td>-15.749602</td>\n",
       "      <td>-25.579591</td>\n",
       "    </tr>\n",
       "    <tr>\n",
       "      <th>4</th>\n",
       "      <td>386.887306</td>\n",
       "      <td>-63.793789</td>\n",
       "      <td>-11.651854</td>\n",
       "      <td>-16.873476</td>\n",
       "    </tr>\n",
       "  </tbody>\n",
       "</table>\n",
       "</div>"
      ],
      "text/plain": [
       "        pca_1      pca_2      pca_3      pca_4\n",
       "0 -240.551384 -56.975198 -15.816848 -26.561074\n",
       "1 -176.557574 -57.666367 -15.387076 -25.494301\n",
       "2 -241.561333 -58.200256 -16.507328 -26.461736\n",
       "3 -240.551766 -56.916677 -15.749602 -25.579591\n",
       "4  386.887306 -63.793789 -11.651854 -16.873476"
      ]
     },
     "execution_count": 33,
     "metadata": {},
     "output_type": "execute_result"
    }
   ],
   "source": [
    "pca_df.head()"
   ]
  },
  {
   "cell_type": "markdown",
   "metadata": {},
   "source": [
    "## Export the transformed data"
   ]
  },
  {
   "cell_type": "markdown",
   "metadata": {},
   "source": [
    "Add Revenue column to export all together in one csv file:"
   ]
  },
  {
   "cell_type": "code",
   "execution_count": 35,
   "metadata": {},
   "outputs": [],
   "source": [
    "pca_df['Revenue'] = df['Revenue']"
   ]
  },
  {
   "cell_type": "code",
   "execution_count": 36,
   "metadata": {},
   "outputs": [],
   "source": [
    "pca_df.to_csv('../data/3.PCA/pca_0_df.csv', index=False)"
   ]
  },
  {
   "cell_type": "code",
   "execution_count": null,
   "metadata": {},
   "outputs": [],
   "source": []
  }
 ],
 "metadata": {
  "kernelspec": {
   "display_name": "Python 3",
   "language": "python",
   "name": "python3"
  },
  "language_info": {
   "codemirror_mode": {
    "name": "ipython",
    "version": 3
   },
   "file_extension": ".py",
   "mimetype": "text/x-python",
   "name": "python",
   "nbconvert_exporter": "python",
   "pygments_lexer": "ipython3",
   "version": "3.8.3"
  },
  "toc": {
   "base_numbering": 1,
   "nav_menu": {},
   "number_sections": true,
   "sideBar": true,
   "skip_h1_title": false,
   "title_cell": "Table of Contents",
   "title_sidebar": "Contents",
   "toc_cell": false,
   "toc_position": {},
   "toc_section_display": true,
   "toc_window_display": false
  }
 },
 "nbformat": 4,
 "nbformat_minor": 4
}
